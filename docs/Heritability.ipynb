{
 "cells": [
  {
   "cell_type": "markdown",
   "metadata": {},
   "source": [
    "# Heritability Analysis"
   ]
  },
  {
   "cell_type": "markdown",
   "metadata": {},
   "source": [
    "As an application of the variance component model, this note demonstrates the workflow for heritability analysis in genetics, using a sample data set `SNP_29C` with **212** individuals and **253,141** SNPs. \n",
    "\n",
    "`SNP_29C.bed`, `SNP_29C.bim`, and `SNP_29C.fam` is a set of Plink files in binary format. `SNP_29Ctraitdata.txt` contains 2 phenotypes of the 212 individuals, column 1 identifies the individuals family ID, column 2 individual ID, and columns 3 and 4 are traits 1 and 2 respectively."
   ]
  },
  {
   "cell_type": "markdown",
   "metadata": {},
   "source": [
    "The `SNP_29C` dataset:\n",
    "\n",
    "Simulated with realistic linkage disequilibrium (LD) structure and constructed from phased sequence data from chromosome 19 on 85 individuals of northern and western European ancestry. After removing mono-allelic markers this set of in- dividuals, 253,141 SNPs remained. Almost half of the SNPs have minor allele frequencies (MAF) below 5%. The haplotype pairs attributed to the 85 CEPH members were reas- signed to the 85 founders of 27 pedigree structures selected from the Framingham Heart Study (FHS, http://www.framinghamheartstudy.org). The selected Framingham pedi- grees were chosen to reflect the kind of pedigrees commonly collected in family-based genetic studies. The 27 pedigrees encompass 212 people, range in size from 1 to 36 peo- ple and from 1 to 5 generations, and contain sibships of 1 to 5 children. The genotypes of non-founders were simulated, using Option 17, conditional on the haplotypes imposed on the founders. All genotypes were recorded as unordered for subsequent analyses."
   ]
  },
  {
   "cell_type": "code",
   "execution_count": 1,
   "metadata": {},
   "outputs": [
    {
     "name": "stdout",
     "output_type": "stream",
     "text": [
      "SNP_29C.bed\n",
      "SNP_29C.bim\n",
      "SNP_29C.fam\n",
      "SNP_29Ctraitdata.csv\n"
     ]
    }
   ],
   "source": [
    ";ls \"SNP_29C*.*\""
   ]
  },
  {
   "cell_type": "markdown",
   "metadata": {},
   "source": [
    "Machine information:"
   ]
  },
  {
   "cell_type": "code",
   "execution_count": 2,
   "metadata": {},
   "outputs": [
    {
     "name": "stdout",
     "output_type": "stream",
     "text": [
      "Julia Version 0.6.0\n",
      "Commit 903644385b (2017-06-19 13:05 UTC)\n",
      "Platform Info:\n",
      "  OS: macOS (x86_64-apple-darwin13.4.0)\n",
      "  CPU: Intel(R) Core(TM) i7-7700HQ CPU @ 2.80GHz\n",
      "  WORD_SIZE: 64\n",
      "  BLAS: libopenblas (USE64BITINT DYNAMIC_ARCH NO_AFFINITY Prescott)\n",
      "  LAPACK: libopenblas64_\n",
      "  LIBM: libopenlibm\n",
      "  LLVM: libLLVM-3.9.1 (ORCJIT, broadwell)\n"
     ]
    }
   ],
   "source": [
    "versioninfo()"
   ]
  },
  {
   "cell_type": "markdown",
   "metadata": {},
   "source": [
    "## Read in binary SNP data"
   ]
  },
  {
   "cell_type": "markdown",
   "metadata": {},
   "source": [
    "We will use the [`SnpArrays.jl`](https://github.com/OpenMendel/SnpArrays.jl) package to read in binary SNP data and compute the empirical kinship matrix. Issue \n",
    "```julia\n",
    "Pkg.clone(\"https://github.com/OpenMendel/SnpArrays.jl.git\")\n",
    "```\n",
    "within `Julia` to install the `SnpArrays` package."
   ]
  },
  {
   "cell_type": "code",
   "execution_count": 3,
   "metadata": {
    "collapsed": true
   },
   "outputs": [],
   "source": [
    "using SnpArrays"
   ]
  },
  {
   "cell_type": "code",
   "execution_count": 4,
   "metadata": {},
   "outputs": [
    {
     "name": "stdout",
     "output_type": "stream",
     "text": [
      "  0.609499 seconds (220.93 k allocations: 24.445 MiB, 1.32% gc time)\n"
     ]
    },
    {
     "data": {
      "text/plain": [
       "212×253141 SnpArrays.SnpArray{2}:\n",
       " (true, true)  (true, true)   …  (true, true)    (false, false)\n",
       " (true, true)  (true, true)      (true, true)    (false, false)\n",
       " (true, true)  (true, true)      (true, true)    (false, false)\n",
       " (true, true)  (true, true)      (true, true)    (false, false)\n",
       " (true, true)  (true, true)      (true, true)    (false, false)\n",
       " (true, true)  (true, true)   …  (false, false)  (true, true)  \n",
       " (true, true)  (false, true)     (false, false)  (true, true)  \n",
       " (true, true)  (true, true)      (false, false)  (true, true)  \n",
       " (true, true)  (false, true)     (false, false)  (true, true)  \n",
       " (true, true)  (false, true)     (false, false)  (true, true)  \n",
       " (true, true)  (false, true)  …  (false, false)  (true, true)  \n",
       " (true, true)  (true, true)      (false, false)  (true, true)  \n",
       " (true, true)  (false, true)     (false, false)  (true, true)  \n",
       " ⋮                            ⋱                  ⋮             \n",
       " (true, true)  (true, true)   …  (true, true)    (false, false)\n",
       " (true, true)  (true, true)      (false, true)   (false, true) \n",
       " (true, true)  (true, true)      (true, true)    (false, false)\n",
       " (true, true)  (false, true)     (false, false)  (true, true)  \n",
       " (true, true)  (true, true)      (true, true)    (false, false)\n",
       " (true, true)  (true, true)   …  (false, true)   (false, false)\n",
       " (true, true)  (true, true)      (false, true)   (false, true) \n",
       " (true, true)  (true, true)      (true, true)    (false, false)\n",
       " (true, true)  (false, true)     (false, true)   (false, true) \n",
       " (true, true)  (true, true)      (true, true)    (false, false)\n",
       " (true, true)  (true, true)   …  (true, true)    (false, false)\n",
       " (true, true)  (true, true)      (false, true)   (false, true) "
      ]
     },
     "execution_count": 4,
     "metadata": {},
     "output_type": "execute_result"
    }
   ],
   "source": [
    "# read in genotype data from Plink binary file (~50 secs on my laptop)\n",
    "@time SNP_29C = SnpArray(\"SNP_29C\")"
   ]
  },
  {
   "cell_type": "markdown",
   "metadata": {},
   "source": [
    "## Summary statistics of SNP data"
   ]
  },
  {
   "cell_type": "code",
   "execution_count": 5,
   "metadata": {},
   "outputs": [
    {
     "data": {
      "text/plain": [
       "(212, 253141)"
      ]
     },
     "execution_count": 5,
     "metadata": {},
     "output_type": "execute_result"
    }
   ],
   "source": [
    "people, snps = size(SNP_29C)"
   ]
  },
  {
   "cell_type": "code",
   "execution_count": 6,
   "metadata": {},
   "outputs": [
    {
     "name": "stdout",
     "output_type": "stream",
     "text": [
      "  0.410520 seconds (19.62 k allocations: 4.798 MiB, 1.75% gc time)\n"
     ]
    }
   ],
   "source": [
    "# summary statistics (~50 secs on my laptop)\n",
    "@time maf, _, missings_by_snp, = summarize(SNP_29C);"
   ]
  },
  {
   "cell_type": "code",
   "execution_count": 7,
   "metadata": {},
   "outputs": [
    {
     "data": {
      "text/plain": [
       "([0.00235849 0.0117925 … 0.228774 0.5], 0.13381461170905357)"
      ]
     },
     "execution_count": 7,
     "metadata": {},
     "output_type": "execute_result"
    }
   ],
   "source": [
    "# 5 number summary and average MAF (minor allele frequencies)\n",
    "quantile(maf, [0.0 .25 .5 .75 1.0]), mean(maf)"
   ]
  },
  {
   "cell_type": "code",
   "execution_count": 8,
   "metadata": {},
   "outputs": [
    {
     "data": {
      "text/html": [
       "<img src=\"data:image/png;base64,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\" />"
      ]
     },
     "execution_count": 8,
     "metadata": {},
     "output_type": "execute_result"
    }
   ],
   "source": [
    "# Pkg.add(\"Plots\")\n",
    "# Pkg.add(\"PyPlot\")\n",
    "using Plots\n",
    "pyplot()\n",
    "\n",
    "histogram(maf, xlab = \"Minor Allele Frequency (MAF)\", label = \"MAF\")"
   ]
  },
  {
   "cell_type": "code",
   "execution_count": 9,
   "metadata": {},
   "outputs": [
    {
     "data": {
      "text/plain": [
       "0.0"
      ]
     },
     "execution_count": 9,
     "metadata": {},
     "output_type": "execute_result"
    }
   ],
   "source": [
    "# proportion of missing genotypes\n",
    "sum(missings_by_snp) / length(SNP_29C)"
   ]
  },
  {
   "cell_type": "code",
   "execution_count": 10,
   "metadata": {},
   "outputs": [
    {
     "data": {
      "text/plain": [
       "0.4558724189285813"
      ]
     },
     "execution_count": 10,
     "metadata": {},
     "output_type": "execute_result"
    }
   ],
   "source": [
    "# proportion of rare SNPs with maf < 0.05\n",
    "countnz(maf .< 0.05) / length(maf)"
   ]
  },
  {
   "cell_type": "markdown",
   "metadata": {},
   "source": [
    "## Empirical Kinship Matrix"
   ]
  },
  {
   "cell_type": "markdown",
   "metadata": {},
   "source": [
    "In this example we estimate the empirical kinships based on all 253,141 SNPs by Genetic Relationship Matrix.\n",
    "\n",
    "Both the GRM and the MoM methods are fairly quick to calculate and provide good estimates for the kinship coefficients, given reasonably dense genome-wide data. When using the GRM method, very rare SNPs should not be used since they become overweighted. In general, one can think of the GRM method centering and scaling each genotype, while the MoM method uses the raw genotypes and then centers and scales the final result."
   ]
  },
  {
   "cell_type": "markdown",
   "metadata": {},
   "source": [
    "### Kinship via Genetic Relationship Matrix (GRM)\n",
    "\n",
    "Under the GRM formulation, the estimate of the global kinship coefficient of individuals $i$ and $j$ is\n",
    "$$ \\widehat\\Phi_{GRMij}^  = \\frac{1}{2S} \\sum_{k=1}^S \\frac{(x_{ik} -2p_k)(x_{jk} - 2p_k)}{2 p_k (1-p_k)}$$,\n",
    "where $k$ ranges over the selected $S$ SNPs, $p_k$ is the minor allele frequency of SNP $k$, and $x_{ik}$ is the number of minor alleles in individual $i$s genotype at SNP $k$."
   ]
  },
  {
   "cell_type": "markdown",
   "metadata": {},
   "source": [
    "It is often necessary to filter SNPs according to minor allele frequency and LD before calculating empirical kinship matrix. By default, the \"grm\" function exlcudes SNPs with minor allele frequency below 0.01. This can be changed by the keyword argument maf_threshold.\n",
    "\n",
    "In this example we sample every fifth SNP, and exclude very rare SNPs (those with minor allele counts less than 3) since they become over weighted. Thus we set the maf_threshold = 3/ 212/ 2 =  0.0071."
   ]
  },
  {
   "cell_type": "code",
   "execution_count": 11,
   "metadata": {},
   "outputs": [
    {
     "name": "stdout",
     "output_type": "stream",
     "text": [
      "  3.330394 seconds (20.67 M allocations: 484.741 MiB, 12.06% gc time)\n"
     ]
    },
    {
     "data": {
      "text/plain": [
       "212×212 Array{Float64,2}:\n",
       "  0.503736      0.00450238    0.00560925   …   0.0202415    -0.00146227\n",
       "  0.00450238    0.514562     -0.0192975       -0.0211945    -0.0190527 \n",
       "  0.00560925   -0.0192975     0.492619        -0.0150127    -0.00337255\n",
       "  0.248505     -0.00189301    0.262585         0.000939722  -0.00397642\n",
       "  0.123444      0.26985       0.120157        -0.011537     -0.00704346\n",
       " -0.00873656   -0.000536772  -0.00104013   …   0.00274189    0.0117686 \n",
       " -0.0122605     0.00754381   -0.0084298       -0.0109589     0.00124671\n",
       " -0.0116844    -0.00831492   -0.0103027       -0.010893     -0.00465248\n",
       " -0.00847343    0.0016468    -0.0120892       -0.0212743    -0.00557705\n",
       " -0.00893916   -0.006521     -0.0138499       -0.00648165   -0.0127073 \n",
       " -0.0107549     0.00852362    0.00136741   …  -0.00404222    0.011256  \n",
       " -0.0112584     0.00481192   -0.00523649      -0.00627449    0.0065575 \n",
       " -0.0194832     0.000914529  -0.011264         0.00177211    0.0166304 \n",
       "  ⋮                                        ⋱   ⋮                       \n",
       "  0.00100953   -0.0112222    -0.0133715    …   0.00528263   -0.019073  \n",
       "  0.00484842    0.000194152  -0.0141461        0.000918254   0.00240293\n",
       " -0.0142276    -0.0248316    -0.00288667      -0.0132311    -0.0133404 \n",
       " -0.0163315    -0.0137613    -0.0170462       -0.0206065     0.0046778 \n",
       " -0.0029135     0.0130943    -0.00471949      -0.00479935   -0.00691155\n",
       "  0.000657715  -0.000730383  -0.00182715   …   0.0242018     0.0256279 \n",
       " -0.012718     -0.00525706   -0.000972297     -0.0115407     0.0083822 \n",
       "  0.0144501     0.0174049     0.0181185        0.00445693    0.00695606\n",
       " -0.00967986    0.00129945    0.0202481        0.00491677   -0.0170569 \n",
       "  0.00195329   -0.0141308     0.0122068        0.00477851    0.00815976\n",
       "  0.0202415    -0.0211945    -0.0150127    …   0.5561        0.0402404 \n",
       " -0.00146227   -0.0190527    -0.00337255       0.0402404     0.508551  "
      ]
     },
     "execution_count": 11,
     "metadata": {},
     "output_type": "execute_result"
    }
   ],
   "source": [
    "@time ΦGRM = grm(SNP_29C[:, 1:5:end]; method = :GRM, maf_threshold = 0.0071)"
   ]
  },
  {
   "cell_type": "markdown",
   "metadata": {},
   "source": [
    "### Kinship via Method of Moments (MoM)\n",
    "Using the Method of Moments (MoM) formula, the estimate of the global kinship coefficient of individuals $i$ and $j$ is\n",
    "$$ \\widehat \\Phi_{MoMij} = \\frac{e_{ij} - \\sum_{k=1}^S \\left[p_k^2 + (1-p_k)^2 \\right]}{S - \\sum_{k=1}^S\\left[p_k^2 + (1-p_k)^2\\right]}, $$\n",
    "where\n",
    "$$ e_{ij}  =  \\frac{1}{4} \\sum_{k=1}^S \\left[ x_{ik}x_{jk} + (2-x_{ik})(2-x_{jk}) \\right] $$\n",
    "is the observed fraction of alleles identical by state (IBS) between $i$ and $j$."
   ]
  },
  {
   "cell_type": "markdown",
   "metadata": {},
   "source": [
    "!!! note\n",
    "\n",
    "    It is important to note that sometimes MoM formulation does not guarantee Positive Semi-Definiteness. Thus, for the rest of this example we will use the GRM formulation of the empirical Kinship coefficients. "
   ]
  },
  {
   "cell_type": "code",
   "execution_count": 12,
   "metadata": {},
   "outputs": [
    {
     "name": "stdout",
     "output_type": "stream",
     "text": [
      "  3.064000 seconds (85.80 M allocations: 1.604 GiB, 15.40% gc time)\n"
     ]
    },
    {
     "data": {
      "text/plain": [
       "212×212 Array{Float64,2}:\n",
       "  0.506634     0.00429712   0.0260383    …  -0.00798769   0.00311508 \n",
       "  0.00429712   0.507848    -0.0168319       -0.0591744   -0.0186789  \n",
       "  0.0260383   -0.0168319    0.504523        -0.0498764    0.000360494\n",
       "  0.243028    -0.0193543    0.268178        -0.0446627   -0.0185839  \n",
       "  0.111198     0.241117     0.115525        -0.0691584   -0.0173807  \n",
       " -0.005898     0.004371     0.00643958   …  -0.0297183    0.0214895  \n",
       " -0.0165786    0.00881422  -0.00794547      -0.0459819   -0.00239409 \n",
       " -0.0109111   -0.00265794  -0.0128531       -0.0387419    0.00140534 \n",
       " -0.00260517   0.0155688    0.00462429      -0.0568525    0.00846594 \n",
       " -0.0177184   -0.0109639   -0.0168741       -0.0413593   -0.0171169  \n",
       " -0.0187949    0.00050825   0.00475094   …  -0.0519238    0.00726278 \n",
       " -0.00375555   0.0086348    0.00653456      -0.0407472    0.0139012  \n",
       " -0.0263305    0.00670342  -0.00597188      -0.0301827    0.0178484  \n",
       "  ⋮                                      ⋱   ⋮                       \n",
       "  0.00241852   0.0075794   -0.00946524   …  -0.0122937   -0.0145734  \n",
       "  0.00189082   0.00246073  -0.0205258       -0.0350903    0.000634897\n",
       " -0.0070906   -0.0178029    0.00851871      -0.0438923   -0.00790326 \n",
       " -0.0211063   -0.0141195   -0.0225733       -0.059491    -0.00670011 \n",
       "  0.00405438   0.0218061    0.00382219      -0.0314175   -0.000832103\n",
       " -0.010014    -0.0219189   -0.0149322    …  -0.0239136    0.00100429 \n",
       " -0.0204625   -0.0118399   -0.0052331       -0.0563037    0.000856531\n",
       "  0.0253101    0.0251095    0.0249196       -0.018014     0.0256794  \n",
       " -0.0185311   -0.01832      0.0242441       -0.0370639   -0.0313753  \n",
       "  0.00256627  -0.00921195   0.0223233       -0.024093     0.0219856  \n",
       " -0.00798769  -0.0591744   -0.0498764    …   0.500565     0.00406493 \n",
       "  0.00311508  -0.0186789    0.000360494      0.00406493   0.494434   "
      ]
     },
     "execution_count": 12,
     "metadata": {},
     "output_type": "execute_result"
    }
   ],
   "source": [
    "@time ΦMoM = grm(SNP_29C; method = :MoM)"
   ]
  },
  {
   "cell_type": "markdown",
   "metadata": {},
   "source": [
    "## User Supplied Kinship Matrix"
   ]
  },
  {
   "cell_type": "markdown",
   "metadata": {},
   "source": [
    "In the case where the kinship matrix has already been calculated, we can read in an existing GRM file.\n",
    "\n",
    "It is important to be mindful of what type of format your kinship matrix is in, as the command to read in different file types may change. In this example we use a Comma-Separated-Values (CSV) file, ΦGRM_ped.csv."
   ]
  },
  {
   "cell_type": "markdown",
   "metadata": {},
   "source": [
    "### Theoretical Kinship Matrix"
   ]
  },
  {
   "cell_type": "markdown",
   "metadata": {},
   "source": [
    "Classic Mendel was used to calculate the theoretical kinships based on the pedigree structure.\n",
    "The documentation on the theoretical kinship formulation can be found in Chapter 5 of \"Mathematical and Statistical Methods for Genetic Analysis\" (1997), Dr. Kenneth Lange.\n",
    "\n",
    "https://books.google.com/books?id=QYqeYTftPNwC&lpg=PP1&pg=PA83#v=onepage&q&f=false"
   ]
  },
  {
   "cell_type": "markdown",
   "metadata": {},
   "source": [
    "!!! note\n",
    "\n",
    "    All missing genotypes in this file must be imputed before any further analysis"
   ]
  },
  {
   "cell_type": "code",
   "execution_count": 13,
   "metadata": {},
   "outputs": [
    {
     "data": {
      "text/plain": [
       "212×212 Array{Float64,2}:\n",
       " 0.5    0.0   0.0    0.25  0.125  0.0    …  0.0  0.0  0.0  0.0  0.0  0.0  0.0\n",
       " 0.0    0.5   0.0    0.0   0.25   0.0       0.0  0.0  0.0  0.0  0.0  0.0  0.0\n",
       " 0.0    0.0   0.5    0.25  0.125  0.0       0.0  0.0  0.0  0.0  0.0  0.0  0.0\n",
       " 0.25   0.0   0.25   0.5   0.25   0.0       0.0  0.0  0.0  0.0  0.0  0.0  0.0\n",
       " 0.125  0.25  0.125  0.25  0.5    0.0       0.0  0.0  0.0  0.0  0.0  0.0  0.0\n",
       " 0.0    0.0   0.0    0.0   0.0    0.5    …  0.0  0.0  0.0  0.0  0.0  0.0  0.0\n",
       " 0.0    0.0   0.0    0.0   0.0    0.0       0.0  0.0  0.0  0.0  0.0  0.0  0.0\n",
       " 0.0    0.0   0.0    0.0   0.0    0.0       0.0  0.0  0.0  0.0  0.0  0.0  0.0\n",
       " 0.0    0.0   0.0    0.0   0.0    0.25      0.0  0.0  0.0  0.0  0.0  0.0  0.0\n",
       " 0.0    0.0   0.0    0.0   0.0    0.25      0.0  0.0  0.0  0.0  0.0  0.0  0.0\n",
       " 0.0    0.0   0.0    0.0   0.0    0.25   …  0.0  0.0  0.0  0.0  0.0  0.0  0.0\n",
       " 0.0    0.0   0.0    0.0   0.0    0.25      0.0  0.0  0.0  0.0  0.0  0.0  0.0\n",
       " 0.0    0.0   0.0    0.0   0.0    0.125     0.0  0.0  0.0  0.0  0.0  0.0  0.0\n",
       " ⋮                                ⋮      ⋱  ⋮                        ⋮       \n",
       " 0.0    0.0   0.0    0.0   0.0    0.0    …  0.0  0.0  0.0  0.0  0.0  0.0  0.0\n",
       " 0.0    0.0   0.0    0.0   0.0    0.0       0.0  0.0  0.0  0.0  0.0  0.0  0.0\n",
       " 0.0    0.0   0.0    0.0   0.0    0.0       0.0  0.0  0.0  0.0  0.0  0.0  0.0\n",
       " 0.0    0.0   0.0    0.0   0.0    0.0       0.0  0.0  0.0  0.0  0.0  0.0  0.0\n",
       " 0.0    0.0   0.0    0.0   0.0    0.0       0.0  0.0  0.0  0.0  0.0  0.0  0.0\n",
       " 0.0    0.0   0.0    0.0   0.0    0.0    …  0.5  0.0  0.0  0.0  0.0  0.0  0.0\n",
       " 0.0    0.0   0.0    0.0   0.0    0.0       0.0  0.5  0.0  0.0  0.0  0.0  0.0\n",
       " 0.0    0.0   0.0    0.0   0.0    0.0       0.0  0.0  0.5  0.0  0.0  0.0  0.0\n",
       " 0.0    0.0   0.0    0.0   0.0    0.0       0.0  0.0  0.0  0.5  0.0  0.0  0.0\n",
       " 0.0    0.0   0.0    0.0   0.0    0.0       0.0  0.0  0.0  0.0  0.5  0.0  0.0\n",
       " 0.0    0.0   0.0    0.0   0.0    0.0    …  0.0  0.0  0.0  0.0  0.0  0.5  0.0\n",
       " 0.0    0.0   0.0    0.0   0.0    0.0       0.0  0.0  0.0  0.0  0.0  0.0  0.5"
      ]
     },
     "execution_count": 13,
     "metadata": {},
     "output_type": "execute_result"
    }
   ],
   "source": [
    "ΦGRM_ped = readcsv(\"kinship_ped29c.csv\", Float64; header = false)"
   ]
  },
  {
   "cell_type": "markdown",
   "metadata": {},
   "source": [
    "## Phenotypes"
   ]
  },
  {
   "cell_type": "markdown",
   "metadata": {},
   "source": [
    "Read in the phenotype data and compute descriptive statistics."
   ]
  },
  {
   "cell_type": "code",
   "execution_count": 14,
   "metadata": {},
   "outputs": [
    {
     "name": "stderr",
     "output_type": "stream",
     "text": [
      "\u001b[1m\u001b[36mINFO: \u001b[39m\u001b[22m\u001b[36mRecompiling stale cache file /Users/sarahji/.julia/lib/v0.6/DataArrays.ji for module DataArrays.\n",
      "\u001b[39m\u001b[1m\u001b[36mINFO: \u001b[39m\u001b[22m\u001b[36mRecompiling stale cache file /Users/sarahji/.julia/lib/v0.6/DataFrames.ji for module DataFrames.\n",
      "\u001b[39m"
     ]
    },
    {
     "data": {
      "text/plain": [
       "(212, 5)"
      ]
     },
     "execution_count": 14,
     "metadata": {},
     "output_type": "execute_result"
    }
   ],
   "source": [
    "# Pkg.add(\"DataFrames\")\n",
    "using DataFrames\n",
    "\n",
    "SNP_29C_trait = readtable(\n",
    "    \"SNP_29Ctraitdata.csv\"; header = false,\n",
    "    separator = ',',\n",
    "    names = [:FID; :IID; :SEX; :Trait1; :Trait2],  \n",
    "    eltypes = [Int; Int; Int; Float64; Float64]\n",
    "    )\n",
    "\n",
    "size(SNP_29C_trait)"
   ]
  },
  {
   "cell_type": "code",
   "execution_count": 15,
   "metadata": {},
   "outputs": [
    {
     "data": {
      "text/html": [
       "<table class=\"data-frame\"><thead><tr><th></th><th>FID</th><th>IID</th><th>SEX</th><th>Trait1</th><th>Trait2</th></tr></thead><tbody><tr><th>1</th><td>1</td><td>16</td><td>2</td><td>30.20564</td><td>9.2421</td></tr><tr><th>2</th><td>1</td><td>8228</td><td>2</td><td>35.82143</td><td>15.27458</td></tr><tr><th>3</th><td>1</td><td>17008</td><td>1</td><td>36.05298</td><td>19.50496</td></tr><tr><th>4</th><td>1</td><td>9218</td><td>1</td><td>38.96351</td><td>18.98575</td></tr><tr><th>5</th><td>1</td><td>3226</td><td>2</td><td>33.73911</td><td>21.10412</td></tr><tr><th>6</th><td>2</td><td>29</td><td>2</td><td>34.88835</td><td>19.01142</td></tr><tr><th>7</th><td>2</td><td>2294</td><td>1</td><td>37.70105</td><td>19.16556</td></tr><tr><th>8</th><td>2</td><td>3416</td><td>1</td><td>45.13171</td><td>19.84088</td></tr><tr><th>9</th><td>2</td><td>17893</td><td>2</td><td>35.15599</td><td>14.14228</td></tr><tr><th>10</th><td>2</td><td>6952</td><td>1</td><td>42.45136</td><td>19.92713</td></tr><tr><th>11</th><td>2</td><td>14695</td><td>2</td><td>35.6426</td><td>17.41914</td></tr><tr><th>12</th><td>2</td><td>6790</td><td>1</td><td>40.63441</td><td>23.6845</td></tr><tr><th>13</th><td>2</td><td>3916</td><td>2</td><td>34.86183</td><td>16.86836</td></tr><tr><th>14</th><td>3</td><td>39</td><td>2</td><td>37.25525</td><td>16.39703</td></tr><tr><th>15</th><td>3</td><td>4521</td><td>2</td><td>33.09751</td><td>15.32872</td></tr><tr><th>16</th><td>3</td><td>8366</td><td>1</td><td>37.91603</td><td>20.66932</td></tr><tr><th>17</th><td>3</td><td>16693</td><td>2</td><td>34.83896</td><td>17.66506</td></tr><tr><th>18</th><td>3</td><td>21688</td><td>1</td><td>36.20219</td><td>21.77733</td></tr><tr><th>19</th><td>3</td><td>25532</td><td>2</td><td>30.93143</td><td>17.80424</td></tr><tr><th>20</th><td>3</td><td>26294</td><td>1</td><td>41.58987</td><td>22.07719</td></tr><tr><th>21</th><td>3</td><td>16795</td><td>2</td><td>31.5552</td><td>17.79886</td></tr><tr><th>22</th><td>3</td><td>17445</td><td>1</td><td>35.5947</td><td>20.01312</td></tr><tr><th>23</th><td>3</td><td>2039</td><td>1</td><td>36.04803</td><td>17.7814</td></tr><tr><th>24</th><td>3</td><td>2831</td><td>1</td><td>39.18217</td><td>20.74701</td></tr><tr><th>25</th><td>4</td><td>54</td><td>2</td><td>34.73394</td><td>9.88673</td></tr><tr><th>26</th><td>4</td><td>5072</td><td>1</td><td>37.56775</td><td>14.21644</td></tr><tr><th>27</th><td>4</td><td>17240</td><td>2</td><td>32.97813</td><td>12.98087</td></tr><tr><th>28</th><td>5</td><td>70</td><td>2</td><td>40.22716</td><td>21.07721</td></tr><tr><th>29</th><td>5</td><td>24010</td><td>1</td><td>41.75868</td><td>24.1248</td></tr><tr><th>30</th><td>5</td><td>21999</td><td>1</td><td>45.46347</td><td>27.55542</td></tr><tr><th>&vellip;</th><td>&vellip;</td><td>&vellip;</td><td>&vellip;</td><td>&vellip;</td><td>&vellip;</td></tr></tbody></table>"
      ],
      "text/plain": [
       "212×5 DataFrames.DataFrame\n",
       "│ Row │ FID   │ IID   │ SEX │ Trait1  │ Trait2  │\n",
       "├─────┼───────┼───────┼─────┼─────────┼─────────┤\n",
       "│ 1   │ 1     │ 16    │ 2   │ 30.2056 │ 9.2421  │\n",
       "│ 2   │ 1     │ 8228  │ 2   │ 35.8214 │ 15.2746 │\n",
       "│ 3   │ 1     │ 17008 │ 1   │ 36.053  │ 19.505  │\n",
       "│ 4   │ 1     │ 9218  │ 1   │ 38.9635 │ 18.9857 │\n",
       "│ 5   │ 1     │ 3226  │ 2   │ 33.7391 │ 21.1041 │\n",
       "│ 6   │ 2     │ 29    │ 2   │ 34.8884 │ 19.0114 │\n",
       "│ 7   │ 2     │ 2294  │ 1   │ 37.7011 │ 19.1656 │\n",
       "│ 8   │ 2     │ 3416  │ 1   │ 45.1317 │ 19.8409 │\n",
       "│ 9   │ 2     │ 17893 │ 2   │ 35.156  │ 14.1423 │\n",
       "│ 10  │ 2     │ 6952  │ 1   │ 42.4514 │ 19.9271 │\n",
       "│ 11  │ 2     │ 14695 │ 2   │ 35.6426 │ 17.4191 │\n",
       "⋮\n",
       "│ 201 │ 31    │ 9277  │ 1   │ 40.0522 │ 21.5122 │\n",
       "│ 202 │ 31    │ 16139 │ 1   │ 39.3161 │ 24.8508 │\n",
       "│ 203 │ 31    │ 10439 │ 1   │ 41.7913 │ 22.5294 │\n",
       "│ 204 │ 31    │ 63    │ 2   │ 36.3301 │ 17.0813 │\n",
       "│ 205 │ 10006 │ 66    │ 1   │ 42.9442 │ 17.1984 │\n",
       "│ 206 │ 10008 │ 92    │ 1   │ 39.8927 │ 20.9043 │\n",
       "│ 207 │ 10014 │ 186   │ 1   │ 42.5795 │ 15.9365 │\n",
       "│ 208 │ 10027 │ 374   │ 1   │ 47.8619 │ 19.8943 │\n",
       "│ 209 │ 10029 │ 434   │ 1   │ 41.0531 │ 25.1045 │\n",
       "│ 210 │ 10033 │ 333   │ 1   │ 39.9502 │ 19.7227 │\n",
       "│ 211 │ 10040 │ 234   │ 1   │ 35.4778 │ 21.935  │\n",
       "│ 212 │ 10045 │ 789   │ 1   │ 44.3932 │ 26.1222 │"
      ]
     },
     "execution_count": 15,
     "metadata": {},
     "output_type": "execute_result"
    }
   ],
   "source": [
    "SNP_29C_trait"
   ]
  },
  {
   "cell_type": "markdown",
   "metadata": {},
   "source": [
    "### Univariate Phenotype Analysis"
   ]
  },
  {
   "cell_type": "markdown",
   "metadata": {},
   "source": [
    "For both of the phenotypic traits, first check summary statistics and distribution-patterns to ensure the proper statistical methods for our analysis. "
   ]
  },
  {
   "cell_type": "markdown",
   "metadata": {},
   "source": [
    "!!! note\n",
    "\n",
    "    With a small sample size, it is important to look for any potential outliers or influential observations as they may influence your results greatly. Additionally, it is important to consider the small sample size when looking at histograms. "
   ]
  },
  {
   "cell_type": "code",
   "execution_count": 16,
   "metadata": {},
   "outputs": [
    {
     "name": "stdout",
     "output_type": "stream",
     "text": [
      "Trait1\n",
      "Summary Stats:\n",
      "Mean:           37.860176\n",
      "Minimum:        29.240310\n",
      "1st Quartile:   34.694473\n",
      "Median:         37.653830\n",
      "3rd Quartile:   41.589585\n",
      "Maximum:        47.861930\n",
      "Length:         212\n",
      "Type:           Float64\n",
      "Number Missing: 0\n",
      "% Missing:      0.000000\n",
      "\n",
      "Trait2\n",
      "Summary Stats:\n",
      "Mean:           18.471994\n",
      "Minimum:        9.242100\n",
      "1st Quartile:   15.769725\n",
      "Median:         18.534045\n",
      "3rd Quartile:   20.840625\n",
      "Maximum:        27.555420\n",
      "Length:         212\n",
      "Type:           Float64\n",
      "Number Missing: 0\n",
      "% Missing:      0.000000\n",
      "\n"
     ]
    }
   ],
   "source": [
    "describe(SNP_29C_trait[:, 4:end])"
   ]
  },
  {
   "cell_type": "code",
   "execution_count": 17,
   "metadata": {},
   "outputs": [
    {
     "data": {
      "text/html": [
       "<img src=\"data:image/png;base64,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\" />"
      ]
     },
     "execution_count": 17,
     "metadata": {},
     "output_type": "execute_result"
    }
   ],
   "source": [
    "Y = convert(Matrix{Float64}, SNP_29C_trait[:, 4:end])\n",
    "histogram(Y, layout = 2)"
   ]
  },
  {
   "cell_type": "markdown",
   "metadata": {},
   "source": [
    "## Pre-processing data for heritability analysis"
   ]
  },
  {
   "cell_type": "markdown",
   "metadata": {
    "collapsed": true
   },
   "source": [
    "### Inverse-Normal Transformation"
   ]
  },
  {
   "cell_type": "markdown",
   "metadata": {},
   "source": [
    "In this example, we consider a Rank-Based Inverse Normal Blom Transformations to remedy non-Normal Trait Values."
   ]
  },
  {
   "cell_type": "code",
   "execution_count": 41,
   "metadata": {},
   "outputs": [
    {
     "name": "stdout",
     "output_type": "stream",
     "text": [
      "elapsed time: 0.06404246 seconds\n"
     ]
    },
    {
     "data": {
      "text/plain": [
       "0.06404246"
      ]
     },
     "execution_count": 41,
     "metadata": {},
     "output_type": "execute_result"
    }
   ],
   "source": [
    "using Rmath\n",
    "\n",
    "c = 3/8 # continuity correction c = 3/8\n",
    "N = size(Y)[1]\n",
    "\n",
    "Yt = zeros(Matrix{Float64}(size(Y)[1],size(Y)[2]))\n",
    "\n",
    "tic()\n",
    "for i in 1:size(Y)[2]\n",
    "    for j in 1:size(Y)[1]\n",
    "        value = (tiedrank(Y[:,i]) - c)/(N - 2c + 1)\n",
    "        qz = qnorm.(value)\n",
    "        Yt[j, i] = qz[j]\n",
    "    end\n",
    "end\n",
    "toc() "
   ]
  },
  {
   "cell_type": "code",
   "execution_count": 17,
   "metadata": {},
   "outputs": [
    {
     "data": {
      "text/html": [
       "<img src=\"data:image/png;base64,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\" />"
      ]
     },
     "execution_count": 17,
     "metadata": {},
     "output_type": "execute_result"
    }
   ],
   "source": [
    "histogram(Yt, layout = 2 )"
   ]
  },
  {
   "cell_type": "markdown",
   "metadata": {},
   "source": [
    "To prepare variance component model fitting, we form an instance of `VarianceComponentVariate`. The variance components are $(2\\Phi, I)$."
   ]
  },
  {
   "cell_type": "code",
   "execution_count": 23,
   "metadata": {},
   "outputs": [
    {
     "name": "stderr",
     "output_type": "stream",
     "text": [
      "\n",
      "WARNING: deprecated syntax \"inner constructor VarianceComponentModel(...) around /Users/sarahji/.julia/v0.6/VarianceComponentModels/src/VarianceComponentModels.jl:41\".\n",
      "Use \"VarianceComponentModel{T,M,BT,ΣT}(...) where {T,M,BT,ΣT}\" instead.\n",
      "\n",
      "WARNING: deprecated syntax \"inner constructor TwoVarCompModelRotate(...) around /Users/sarahji/.julia/v0.6/VarianceComponentModels/src/VarianceComponentModels.jl:91\".\n",
      "Use \"TwoVarCompModelRotate{T,BT}(...) where {T,BT}\" instead.\n",
      "\n",
      "WARNING: deprecated syntax \"inner constructor VarianceComponentVariate(...) around /Users/sarahji/.julia/v0.6/VarianceComponentModels/src/VarianceComponentModels.jl:149\".\n",
      "Use \"VarianceComponentVariate{T,M,YT,XT,VT}(...) where {T,M,YT,XT,VT}\" instead.\n",
      "\n",
      "WARNING: deprecated syntax \"inner constructor TwoVarCompVariateRotate(...) around /Users/sarahji/.julia/v0.6/VarianceComponentModels/src/VarianceComponentModels.jl:204\".\n",
      "Use \"TwoVarCompVariateRotate{T,YT,XT}(...) where {T,YT,XT}\" instead.\n"
     ]
    },
    {
     "data": {
      "text/plain": [
       "3-element Array{Symbol,1}:\n",
       " :Y\n",
       " :X\n",
       " :V"
      ]
     },
     "execution_count": 23,
     "metadata": {},
     "output_type": "execute_result"
    }
   ],
   "source": [
    "using VarianceComponentModels\n",
    "using VarianceComponentModels\n",
    "sex = convert(Vector{Float64}, SNP_29C_trait[:, :SEX])\n",
    "sex = sex - 1\n",
    "X = [ones(length(sex)) sex]\n",
    "# form data as VarianceComponentVariate\n",
    "SNP_29Cdata_emp = VarianceComponentVariate(Y, X, (2ΦGRM, eye(length(Y))))\n",
    "fieldnames(SNP_29Cdata_emp)"
   ]
  },
  {
   "cell_type": "markdown",
   "metadata": {},
   "source": [
    "Before fitting the variance component model, we pre-compute the eigen-decomposition of $2\\Phi_{\\text{GRM}}$, the rotated responses, and the constant part in log-likelihood, and store them as a `TwoVarCompVariateRotate` instance, which is re-used in various variane component estimation procedures."
   ]
  },
  {
   "cell_type": "code",
   "execution_count": 24,
   "metadata": {},
   "outputs": [
    {
     "name": "stdout",
     "output_type": "stream",
     "text": [
      "  0.843530 seconds (407.42 k allocations: 21.374 MiB, 1.71% gc time)\n"
     ]
    },
    {
     "data": {
      "text/plain": [
       "5-element Array{Symbol,1}:\n",
       " :Yrot    \n",
       " :Xrot    \n",
       " :eigval  \n",
       " :eigvec  \n",
       " :logdetV2"
      ]
     },
     "execution_count": 24,
     "metadata": {},
     "output_type": "execute_result"
    }
   ],
   "source": [
    "@time SNP_29Cdata_rotated_emp = TwoVarCompVariateRotate(SNP_29Cdata_emp);\n",
    "fieldnames(SNP_29Cdata_rotated_emp)"
   ]
  },
  {
   "cell_type": "markdown",
   "metadata": {},
   "source": [
    "## Heritability of Single Traits"
   ]
  },
  {
   "cell_type": "markdown",
   "metadata": {},
   "source": [
    "### Heritability via Empirical Kinship Matrix with Sex as a Covariate"
   ]
  },
  {
   "cell_type": "markdown",
   "metadata": {},
   "source": [
    "We use Fisher scoring algorithm to fit variance component model for each single trait."
   ]
  },
  {
   "cell_type": "code",
   "execution_count": 30,
   "metadata": {},
   "outputs": [
    {
     "name": "stdout",
     "output_type": "stream",
     "text": [
      "Trait1\n",
      "(σ2a[j], σ2e[j]) = (4.1558406725548895, 2.0745023385298738)\n",
      "Trait2\n",
      "(σ2a[j], σ2e[j]) = (4.462117090728428, 1.9981701701240648)\n",
      "elapsed time: 2.855807793 seconds\n"
     ]
    },
    {
     "data": {
      "text/plain": [
       "2.855807793"
      ]
     },
     "execution_count": 30,
     "metadata": {},
     "output_type": "execute_result"
    }
   ],
   "source": [
    "using VarianceComponentModels\n",
    "hST_emp = zeros(2)\n",
    "# standard errors of estimated heritability\n",
    "hST_se_emp = zeros(2)\n",
    "# additive genetic effects\n",
    "σ2a = zeros(2)\n",
    "# enviromental effects\n",
    "σ2e = zeros(2)\n",
    "\n",
    "tic()\n",
    "for j in 1:2\n",
    "println(names(SNP_29C_trait)[j + 3])\n",
    "traitj_data = TwoVarCompVariateRotate(SNP_29Cdata_rotated_emp.Yrot[:, j], SNP_29Cdata_rotated_emp.Xrot, SNP_29Cdata_rotated_emp.eigval, SNP_29Cdata_rotated_emp.eigvec, SNP_29Cdata_rotated_emp.logdetV2)\n",
    "    # initialize model parameters\n",
    "traitj_model = VarianceComponentModel(traitj_data)\n",
    "    # estimate variance components\n",
    "_, _, _, Σcov, _, _ = mle_fs!(traitj_model, traitj_data; solver=:Ipopt, verbose=false)\n",
    "σ2a[j] = traitj_model.Σ[1][1]\n",
    "σ2e[j] = traitj_model.Σ[2][1]\n",
    "@show σ2a[j], σ2e[j]\n",
    "h, hse = heritability(traitj_model.Σ, Σcov)\n",
    "hST_emp[j] = h[1]\n",
    "hST_se_emp[j] = hse[1]\n",
    "end\n",
    "toc()"
   ]
  },
  {
   "cell_type": "code",
   "execution_count": 31,
   "metadata": {},
   "outputs": [
    {
     "data": {
      "text/plain": [
       "2×2 Array{Float64,2}:\n",
       " 0.667032   0.690699 \n",
       " 0.0761146  0.0699609"
      ]
     },
     "execution_count": 31,
     "metadata": {},
     "output_type": "execute_result"
    }
   ],
   "source": [
    "Heritability_GRM_sex = [hST_emp'; hST_se_emp']"
   ]
  },
  {
   "cell_type": "markdown",
   "metadata": {},
   "source": [
    "### Heritability via Theoretical Kinship Matrix with Sex as a Covariate"
   ]
  },
  {
   "cell_type": "code",
   "execution_count": 32,
   "metadata": {},
   "outputs": [],
   "source": [
    "SNP_29Cdata_ped = VarianceComponentVariate(Y, X, (2ΦGRM_ped, eye(length(Y))))\n",
    "SNP_29Cdata_rotated_ped = TwoVarCompVariateRotate(SNP_29Cdata_ped);"
   ]
  },
  {
   "cell_type": "code",
   "execution_count": 33,
   "metadata": {},
   "outputs": [
    {
     "name": "stdout",
     "output_type": "stream",
     "text": [
      "Trait1\n",
      "(σ2a[j], σ2e[j]) = (3.2750662710799565, 3.1569249886262725)\n",
      "Trait2\n",
      "(σ2a[j], σ2e[j]) = (3.008905077008311, 3.5727082358711293)\n",
      "elapsed time: 0.211059102 seconds\n"
     ]
    },
    {
     "data": {
      "text/plain": [
       "0.211059102"
      ]
     },
     "execution_count": 33,
     "metadata": {},
     "output_type": "execute_result"
    }
   ],
   "source": [
    "hST_peds = zeros(2)\n",
    "# standard errors of estimated heritability\n",
    "hST_se_peds = zeros(2)\n",
    "# additive genetic effects\n",
    "σ2a = zeros(2)\n",
    "# enviromental effects\n",
    "σ2e = zeros(2)\n",
    "\n",
    "tic()\n",
    "for j in 1:2\n",
    "println(names(SNP_29C_trait)[j + 3])\n",
    "traitj_data = TwoVarCompVariateRotate(SNP_29Cdata_rotated_ped.Yrot[:, j], SNP_29Cdata_rotated_ped.Xrot, SNP_29Cdata_rotated_ped.eigval, SNP_29Cdata_rotated_ped.eigvec, SNP_29Cdata_rotated_ped.logdetV2)\n",
    "    # initialize model parameters\n",
    "traitj_model = VarianceComponentModel(traitj_data)\n",
    "    # estimate variance components\n",
    "_, _, _, Σcov, _, _ = mle_fs!(traitj_model, traitj_data; solver=:Ipopt, verbose=false)\n",
    "σ2a[j] = traitj_model.Σ[1][1]\n",
    "σ2e[j] = traitj_model.Σ[2][1]\n",
    "@show σ2a[j], σ2e[j]\n",
    "h, hse = heritability(traitj_model.Σ, Σcov)\n",
    "hST_peds[j] = h[1]\n",
    "hST_se_peds[j] = hse[1]\n",
    "end\n",
    "toc()"
   ]
  },
  {
   "cell_type": "code",
   "execution_count": 34,
   "metadata": {},
   "outputs": [
    {
     "data": {
      "text/plain": [
       "2×2 Array{Float64,2}:\n",
       " 0.509184  0.457168\n",
       " 0.124119  0.137528"
      ]
     },
     "execution_count": 34,
     "metadata": {},
     "output_type": "execute_result"
    }
   ],
   "source": [
    "Heritability_ped_sex = [hST_peds'; hST_se_peds']"
   ]
  },
  {
   "cell_type": "markdown",
   "metadata": {},
   "source": [
    "## Pairwise traits\n",
    "\n",
    "Joint analysis of multiple traits is subject to intensive research recently. Following code snippet does joint analysis of all pairs of traits."
   ]
  },
  {
   "cell_type": "markdown",
   "metadata": {},
   "source": [
    "### Joint Analysis via Empirical Kinship Matrix"
   ]
  },
  {
   "cell_type": "code",
   "execution_count": 35,
   "metadata": {},
   "outputs": [
    {
     "name": "stdout",
     "output_type": "stream",
     "text": [
      "Trait1Trait2\n",
      "This is Ipopt version 3.12.4, running with linear solver mumps.\n",
      "NOTE: Other linear solvers might be more efficient (see Ipopt documentation).\n",
      "\n",
      "Number of nonzeros in equality constraint Jacobian...:        0\n",
      "Number of nonzeros in inequality constraint Jacobian.:        0\n",
      "Number of nonzeros in Lagrangian Hessian.............:       21\n",
      "\n",
      "Total number of variables............................:        6\n",
      "                     variables with only lower bounds:        0\n",
      "                variables with lower and upper bounds:        0\n",
      "                     variables with only upper bounds:        0\n",
      "Total number of equality constraints.................:        0\n",
      "Total number of inequality constraints...............:        0\n",
      "        inequality constraints with only lower bounds:        0\n",
      "   inequality constraints with lower and upper bounds:        0\n",
      "        inequality constraints with only upper bounds:        0\n",
      "\n",
      "iter    objective    inf_pr   inf_du lg(mu)  ||d||  lg(rg) alpha_du alpha_pr  ls\n",
      "   0  1.1400404e+03 0.00e+00 1.00e+02   0.0 0.00e+00    -  0.00e+00 0.00e+00   0 \n",
      "   5  9.5032051e+02 0.00e+00 7.24e-01 -11.0 8.90e-02    -  1.00e+00 1.00e+00f  1 MaxS\n",
      "  10  9.5030788e+02 0.00e+00 7.62e-03 -11.0 6.29e-04    -  1.00e+00 1.00e+00f  1 MaxS\n",
      "  15  9.5030788e+02 0.00e+00 2.47e-04 -11.0 2.13e-05    -  1.00e+00 1.00e+00f  1 MaxS\n",
      "  20  9.5030788e+02 0.00e+00 8.03e-06 -11.0 7.23e-07    -  1.00e+00 1.00e+00f  1 MaxSA\n",
      "  25  9.5030788e+02 0.00e+00 2.63e-07 -11.0 2.47e-08    -  1.00e+00 1.00e+00f  1 MaxSA\n",
      "  30  9.5030788e+02 0.00e+00 8.64e-09 -11.0 8.43e-10    -  1.00e+00 1.00e+00f  1 MaxS\n",
      "\n",
      "Number of Iterations....: 30\n",
      "\n",
      "                                   (scaled)                 (unscaled)\n",
      "Objective...............:   4.1443698228928793e+02    9.5030787995026230e+02\n",
      "Dual infeasibility......:   8.6386134406442122e-09    1.9808421485798065e-08\n",
      "Constraint violation....:   0.0000000000000000e+00    0.0000000000000000e+00\n",
      "Complementarity.........:   0.0000000000000000e+00    0.0000000000000000e+00\n",
      "Overall NLP error.......:   8.6386134406442122e-09    1.9808421485798065e-08\n",
      "\n",
      "\n",
      "Number of objective function evaluations             = 31\n",
      "Number of objective gradient evaluations             = 31\n",
      "Number of equality constraint evaluations            = 0\n",
      "Number of inequality constraint evaluations          = 0\n",
      "Number of equality constraint Jacobian evaluations   = 0\n",
      "Number of inequality constraint Jacobian evaluations = 0\n",
      "Number of Lagrangian Hessian evaluations             = 30\n",
      "Total CPU secs in IPOPT (w/o function evaluations)   =      0.198\n",
      "Total CPU secs in NLP function evaluations           =      0.250\n",
      "\n",
      "EXIT: Optimal Solution Found.\n",
      "(Σa[i, j], Σe[i, j]) = ([4.126 1.236; 1.236 4.43915], [2.09245 -0.0355116; -0.0355116 2.01215])\n",
      "traitij_model.B = [40.893 20.4858; -6.62851 -4.40122]\n",
      "elapsed time: 1.21899643 seconds\n"
     ]
    },
    {
     "data": {
      "text/plain": [
       "1.21899643"
      ]
     },
     "execution_count": 35,
     "metadata": {},
     "output_type": "execute_result"
    }
   ],
   "source": [
    "# additive genetic effects (2x2 psd matrices) from bavariate trait analysis;\n",
    "Σa = Array{Matrix{Float64}}(2, 2)\n",
    "# environmental effects (2x2 psd matrices) from bavariate trait analysis;\n",
    "Σe = Array{Matrix{Float64}}(2, 2)\n",
    "\n",
    "tic()\n",
    "for i in 1:2\n",
    "    for j in (i+1):2\n",
    "        println(names(SNP_29C_trait)[i + 3], names(SNP_29C_trait)[j + 3])\n",
    "        # form data set for (trait1, trait2)\n",
    "        traitij_data = TwoVarCompVariateRotate(SNP_29Cdata_rotated_emp.Yrot[:, [i;j]], SNP_29Cdata_rotated_emp.Xrot, \n",
    "            SNP_29Cdata_rotated_emp.eigval, SNP_29Cdata_rotated_emp.eigvec, SNP_29Cdata_rotated_emp.logdetV2)\n",
    "        # initialize model parameters\n",
    "        traitij_model = VarianceComponentModel(traitij_data)\n",
    "        # estimate variance components\n",
    "        mle_fs!(traitij_model, traitij_data; solver=:Ipopt, verbose=true)\n",
    "        Σa[i, j] = traitij_model.Σ[1]\n",
    "        Σe[i, j] = traitij_model.Σ[2]\n",
    "        @show Σa[i, j], Σe[i, j]\n",
    "        @show traitij_model.B\n",
    "    end\n",
    "end\n",
    "toc()"
   ]
  },
  {
   "cell_type": "markdown",
   "metadata": {},
   "source": [
    "### Joint Analysis via Theoretical Kinship Matrix"
   ]
  },
  {
   "cell_type": "code",
   "execution_count": 36,
   "metadata": {},
   "outputs": [
    {
     "name": "stdout",
     "output_type": "stream",
     "text": [
      "Trait1Trait2\n",
      "(Σa_ped[i, j], Σe_ped[i, j]) = ([3.29155 0.868436; 0.868436 3.04316], [3.14546 0.427296; 0.427296 3.54909])\n",
      "elapsed time: 0.192791778 seconds\n"
     ]
    },
    {
     "data": {
      "text/plain": [
       "0.192791778"
      ]
     },
     "execution_count": 36,
     "metadata": {},
     "output_type": "execute_result"
    }
   ],
   "source": [
    "# additive genetic effects (2x2 psd matrices) from bavariate trait analysis;\n",
    "Σa_ped = Array{Matrix{Float64}}(2, 2)\n",
    "# environmental effects (2x2 psd matrices) from bavariate trait analysis;\n",
    "Σe_ped = Array{Matrix{Float64}}(2, 2)\n",
    "\n",
    "tic()\n",
    "for i in 1:2\n",
    "    for j in (i+1):2\n",
    "        println(names(SNP_29C_trait)[i + 3], names(SNP_29C_trait)[j + 3])\n",
    "        # form data set for (trait1, trait2)\n",
    "        traitij_data = TwoVarCompVariateRotate(SNP_29Cdata_rotated_ped.Yrot[:, [i;j]], SNP_29Cdata_rotated_ped.Xrot, \n",
    "            SNP_29Cdata_rotated_ped.eigval, SNP_29Cdata_rotated_ped.eigvec, SNP_29Cdata_rotated_ped.logdetV2)\n",
    "        # initialize model parameters\n",
    "        traitij_model = VarianceComponentModel(traitij_data)\n",
    "        # estimate variance components\n",
    "        mle_fs!(traitij_model, traitij_data; solver=:Ipopt, verbose=false)\n",
    "        Σa_ped[i, j] = traitij_model.Σ[1]\n",
    "        Σe_ped[i, j] = traitij_model.Σ[2]\n",
    "        @show Σa_ped[i, j], Σe_ped[i, j]\n",
    "    end\n",
    "end\n",
    "toc()"
   ]
  },
  {
   "cell_type": "markdown",
   "metadata": {},
   "source": [
    "## N-joint traits analysis\n",
    "\n",
    "In some situations, such as studying the genetic covariance, we need to jointly analyze all N > 2 traits. \n",
    "We first try the **Fisher scoring algorithm**. (Demo: If SNP_29C dataset had N > 2 traits.)"
   ]
  },
  {
   "cell_type": "markdown",
   "metadata": {},
   "source": [
    "### Joint Analysis via Empirical Kinship Matrix"
   ]
  },
  {
   "cell_type": "code",
   "execution_count": 37,
   "metadata": {},
   "outputs": [
    {
     "name": "stdout",
     "output_type": "stream",
     "text": [
      "This is Ipopt version 3.12.4, running with linear solver mumps.\n",
      "NOTE: Other linear solvers might be more efficient (see Ipopt documentation).\n",
      "\n",
      "Number of nonzeros in equality constraint Jacobian...:        0\n",
      "Number of nonzeros in inequality constraint Jacobian.:        0\n",
      "Number of nonzeros in Lagrangian Hessian.............:       21\n",
      "\n",
      "Total number of variables............................:        6\n",
      "                     variables with only lower bounds:        0\n",
      "                variables with lower and upper bounds:        0\n",
      "                     variables with only upper bounds:        0\n",
      "Total number of equality constraints.................:        0\n",
      "Total number of inequality constraints...............:        0\n",
      "        inequality constraints with only lower bounds:        0\n",
      "   inequality constraints with lower and upper bounds:        0\n",
      "        inequality constraints with only upper bounds:        0\n",
      "\n",
      "iter    objective    inf_pr   inf_du lg(mu)  ||d||  lg(rg) alpha_du alpha_pr  ls\n",
      "   0  1.1400404e+03 0.00e+00 1.00e+02   0.0 0.00e+00    -  0.00e+00 0.00e+00   0 \n",
      "   5  9.5032051e+02 0.00e+00 7.24e-01 -11.0 8.90e-02    -  1.00e+00 1.00e+00f  1 MaxS\n",
      "  10  9.5030788e+02 0.00e+00 7.62e-03 -11.0 6.29e-04    -  1.00e+00 1.00e+00f  1 MaxS\n",
      "  15  9.5030788e+02 0.00e+00 2.47e-04 -11.0 2.13e-05    -  1.00e+00 1.00e+00f  1 MaxS\n",
      "  20  9.5030788e+02 0.00e+00 8.03e-06 -11.0 7.23e-07    -  1.00e+00 1.00e+00f  1 MaxSA\n",
      "  25  9.5030788e+02 0.00e+00 2.63e-07 -11.0 2.47e-08    -  1.00e+00 1.00e+00f  1 MaxSA\n",
      "  30  9.5030788e+02 0.00e+00 8.64e-09 -11.0 8.43e-10    -  1.00e+00 1.00e+00f  1 MaxS\n",
      "\n",
      "Number of Iterations....: 30\n",
      "\n",
      "                                   (scaled)                 (unscaled)\n",
      "Objective...............:   4.1443698228928793e+02    9.5030787995026230e+02\n",
      "Dual infeasibility......:   8.6386134406442122e-09    1.9808421485798065e-08\n",
      "Constraint violation....:   0.0000000000000000e+00    0.0000000000000000e+00\n",
      "Complementarity.........:   0.0000000000000000e+00    0.0000000000000000e+00\n",
      "Overall NLP error.......:   8.6386134406442122e-09    1.9808421485798065e-08\n",
      "\n",
      "\n",
      "Number of objective function evaluations             = 31\n",
      "Number of objective gradient evaluations             = 31\n",
      "Number of equality constraint evaluations            = 0\n",
      "Number of inequality constraint evaluations          = 0\n",
      "Number of equality constraint Jacobian evaluations   = 0\n",
      "Number of inequality constraint Jacobian evaluations = 0\n",
      "Number of Lagrangian Hessian evaluations             = 30\n",
      "Total CPU secs in IPOPT (w/o function evaluations)   =      0.011\n",
      "Total CPU secs in NLP function evaluations           =      0.127\n",
      "\n",
      "EXIT: Optimal Solution Found.\n",
      "  0.156838 seconds (40.21 k allocations: 3.386 MiB)\n"
     ]
    },
    {
     "data": {
      "text/plain": [
       "(-950.3078799502623, VarianceComponentModels.VarianceComponentModel{Float64,2,Array{Float64,2},Array{Float64,2}}([40.893 20.4858; -6.62851 -4.40122], ([4.126 1.236; 1.236 4.43915], [2.09245 -0.0355116; -0.0355116 2.01215]), Array{Float64}(0,4), Char[], Float64[], -Inf, Inf), ([0.965563 0.984083; 0.984083 1.00285], [0.562486 0.563763; 0.563763 0.564966]), [0.932311 0.1833 … -0.056442 -0.00782437; 0.1833 0.968419 … -0.00782437 -0.0574465; … ; -0.056442 -0.00782437 … 0.317829 0.0321524; -0.00782437 -0.0574465 … 0.0321524 0.319187], [0.186128 0.194696; 0.319451 0.336197], [0.0346436 -0.0466923 0.0121335 -0.0180862; -0.0466923 0.102049 -0.0180862 0.0395286; 0.0121335 -0.0180862 0.0379067 -0.0517159; -0.0180862 0.0395286 -0.0517159 0.113029])"
      ]
     },
     "execution_count": 37,
     "metadata": {},
     "output_type": "execute_result"
    }
   ],
   "source": [
    "# initialize model parameters\n",
    "traitall_model_emp = VarianceComponentModel(SNP_29Cdata_rotated_emp)\n",
    "# estimate variance components using Fisher scoring algorithm\n",
    "@time mle_fs!(traitall_model_emp, SNP_29Cdata_rotated_emp; solver=:Ipopt, verbose=true)"
   ]
  },
  {
   "cell_type": "markdown",
   "metadata": {},
   "source": [
    "From the output we can see the Fisher scoring algorithm converged after ~30 iterations. Let's try the **MM algorithm**."
   ]
  },
  {
   "cell_type": "code",
   "execution_count": 38,
   "metadata": {},
   "outputs": [
    {
     "name": "stdout",
     "output_type": "stream",
     "text": [
      "\n",
      "     MM Algorithm\n",
      "  Iter      Objective  \n",
      "--------  -------------\n",
      "       0  -1.901925e+05\n",
      "       1  -1.114684e+03\n",
      "       2  -1.014803e+03\n",
      "       3  -9.803274e+02\n",
      "       4  -9.688978e+02\n",
      "       5  -9.645507e+02\n",
      "       6  -9.622363e+02\n",
      "       7  -9.605340e+02\n",
      "       8  -9.590777e+02\n",
      "       9  -9.577832e+02\n",
      "      10  -9.566347e+02\n",
      "      20  -9.512965e+02\n",
      "      30  -9.504622e+02\n",
      "      40  -9.503336e+02\n",
      "      50  -9.503123e+02\n",
      "      60  -9.503087e+02\n",
      "      70  -9.503080e+02\n",
      "\n",
      "  0.523347 seconds (247.33 k allocations: 12.507 MiB)\n"
     ]
    },
    {
     "data": {
      "text/plain": [
       "(-950.3079289938598, VarianceComponentModels.VarianceComponentModel{Float64,2,Array{Float64,2},Array{Float64,2}}([40.8929 20.4857; -6.6283 -4.40116], ([4.11795 1.23231; 1.23231 4.43644], [2.0972 -0.0334839; -0.0334839 2.01363]), Array{Float64}(0,4), Char[], Float64[], -Inf, Inf), ([0.96503 0.98374; 0.98374 1.00269], [0.562887 0.564037; 0.564037 0.565109]), [0.931283 0.18302 … -0.056492 -0.00784266; 0.18302 0.967744 … -0.00784266 -0.057492; … ; -0.056492 -0.00784266 … 0.318138 0.0322739; -0.00784266 -0.057492 … 0.0322739 0.319348], [0.186079 0.194854; 0.319264 0.336419], [0.0346255 -0.0466375 0.0121489 -0.018098; -0.0466375 0.101929 -0.018098 0.0395544; 0.0121489 -0.018098 0.0379679 -0.0517843; -0.018098 0.0395544 -0.0517843 0.113178])"
      ]
     },
     "execution_count": 38,
     "metadata": {},
     "output_type": "execute_result"
    }
   ],
   "source": [
    "# reset model parameters\n",
    "traitall_model_emp = VarianceComponentModel(SNP_29Cdata_rotated_emp)\n",
    "# estimate variance components using Fisher scoring algorithm\n",
    "@time mle_mm!(traitall_model_emp, SNP_29Cdata_rotated_emp; verbose=true)"
   ]
  },
  {
   "cell_type": "markdown",
   "metadata": {},
   "source": [
    "It converges after ~70 iterations."
   ]
  },
  {
   "cell_type": "markdown",
   "metadata": {},
   "source": [
    "### Joint Analysis via Theoretical Kinship Matrix"
   ]
  },
  {
   "cell_type": "code",
   "execution_count": 39,
   "metadata": {},
   "outputs": [
    {
     "name": "stdout",
     "output_type": "stream",
     "text": [
      "This is Ipopt version 3.12.4, running with linear solver mumps.\n",
      "NOTE: Other linear solvers might be more efficient (see Ipopt documentation).\n",
      "\n",
      "Number of nonzeros in equality constraint Jacobian...:        0\n",
      "Number of nonzeros in inequality constraint Jacobian.:        0\n",
      "Number of nonzeros in Lagrangian Hessian.............:       21\n",
      "\n",
      "Total number of variables............................:        6\n",
      "                     variables with only lower bounds:        0\n",
      "                variables with lower and upper bounds:        0\n",
      "                     variables with only upper bounds:        0\n",
      "Total number of equality constraints.................:        0\n",
      "Total number of inequality constraints...............:        0\n",
      "        inequality constraints with only lower bounds:        0\n",
      "   inequality constraints with lower and upper bounds:        0\n",
      "        inequality constraints with only upper bounds:        0\n",
      "\n",
      "iter    objective    inf_pr   inf_du lg(mu)  ||d||  lg(rg) alpha_du alpha_pr  ls\n",
      "   0  1.2104252e+03 0.00e+00 1.00e+02   0.0 0.00e+00    -  0.00e+00 0.00e+00   0 \n",
      "   5  9.7597348e+02 0.00e+00 1.48e-01 -11.0 1.35e-02    -  1.00e+00 1.00e+00f  1 MaxS\n",
      "  10  9.7597181e+02 0.00e+00 4.20e-03 -11.0 5.82e-04    -  1.00e+00 1.00e+00f  1 MaxS\n",
      "  15  9.7597180e+02 0.00e+00 1.25e-04 -11.0 2.86e-05    -  1.00e+00 1.00e+00f  1 MaxS\n",
      "  20  9.7597180e+02 0.00e+00 7.79e-06 -11.0 1.57e-06    -  1.00e+00 1.00e+00f  1 MaxSA\n",
      "  25  9.7597180e+02 0.00e+00 7.03e-07 -11.0 9.33e-08    -  1.00e+00 1.00e+00f  1 MaxSA\n",
      "  30  9.7597180e+02 0.00e+00 5.17e-08 -11.0 5.79e-09    -  1.00e+00 1.00e+00f  1 MaxSA\n",
      "\n",
      "Number of Iterations....: 34\n",
      "\n",
      "                                   (scaled)                 (unscaled)\n",
      "Objective...............:   3.2912163183208270e+02    9.7597180429975811e+02\n",
      "Dual infeasibility......:   6.0764530569090382e-09    1.8019012669212817e-08\n",
      "Constraint violation....:   0.0000000000000000e+00    0.0000000000000000e+00\n",
      "Complementarity.........:   0.0000000000000000e+00    0.0000000000000000e+00\n",
      "Overall NLP error.......:   6.0764530569090382e-09    1.8019012669212817e-08\n",
      "\n",
      "\n",
      "Number of objective function evaluations             = 35\n",
      "Number of objective gradient evaluations             = 35\n",
      "Number of equality constraint evaluations            = 0\n",
      "Number of inequality constraint evaluations          = 0\n",
      "Number of equality constraint Jacobian evaluations   = 0\n",
      "Number of inequality constraint Jacobian evaluations = 0\n",
      "Number of Lagrangian Hessian evaluations             = 34\n",
      "Total CPU secs in IPOPT (w/o function evaluations)   =      0.012\n",
      "Total CPU secs in NLP function evaluations           =      0.143\n",
      "\n",
      "EXIT: Optimal Solution Found.\n",
      "  0.169836 seconds (45.27 k allocations: 3.810 MiB)\n"
     ]
    },
    {
     "data": {
      "text/plain": [
       "(-975.9718042997582, VarianceComponentModels.VarianceComponentModel{Float64,2,Array{Float64,2},Array{Float64,2}}([40.8046 20.2384; -6.31975 -4.36967], ([3.29155 0.868436; 0.868436 3.04316], [3.14546 0.427296; 0.427296 3.54909]), Array{Float64}(0,4), Char[], Float64[], -Inf, Inf), ([1.01209 1.01438; 1.01438 1.01625], [0.732787 0.754108; 0.754108 0.775871]), [1.02433 0.218799 … -0.107296 -0.0211344; 0.218799 1.02896 … -0.0211344 -0.110622; … ; -0.107296 -0.0211344 … 0.568679 0.102172; -0.0211344 -0.110622 … 0.102172 0.601976], [0.294843 0.248448; 0.354237 0.327564], [0.0869326 -0.056033 0.0346471 -0.0167951; -0.056033 0.125484 -0.0167951 0.0385817; 0.0346471 -0.0167951 0.0617266 -0.048602; -0.0167951 0.0385817 -0.048602 0.107298])"
      ]
     },
     "execution_count": 39,
     "metadata": {},
     "output_type": "execute_result"
    }
   ],
   "source": [
    "# initialize model parameters\n",
    "traitall_model_ped = VarianceComponentModel(SNP_29Cdata_rotated_ped)\n",
    "# estimate variance components using Fisher scoring algorithm\n",
    "@time mle_fs!(traitall_model_ped, SNP_29Cdata_rotated_ped; solver=:Ipopt, verbose=true)"
   ]
  },
  {
   "cell_type": "markdown",
   "metadata": {},
   "source": [
    "From the output we can see the Fisher scoring algorithm converged after ~35 iterations. Let's try the **MM algorithm**."
   ]
  },
  {
   "cell_type": "code",
   "execution_count": 40,
   "metadata": {},
   "outputs": [
    {
     "name": "stdout",
     "output_type": "stream",
     "text": [
      "\n",
      "     MM Algorithm\n",
      "  Iter      Objective  \n",
      "--------  -------------\n",
      "       0  -4.886585e+04\n",
      "       1  -1.086822e+03\n",
      "       2  -1.009878e+03\n",
      "       3  -9.856915e+02\n",
      "       4  -9.787536e+02\n",
      "       5  -9.768659e+02\n",
      "       6  -9.763558e+02\n",
      "       7  -9.762082e+02\n",
      "       8  -9.761556e+02\n",
      "       9  -9.761287e+02\n",
      "      10  -9.761099e+02\n",
      "      20  -9.760162e+02\n",
      "      30  -9.759866e+02\n",
      "      40  -9.759768e+02\n",
      "      50  -9.759735e+02\n",
      "      60  -9.759724e+02\n",
      "      70  -9.759720e+02\n",
      "\n",
      "  0.210188 seconds (29.79 k allocations: 2.321 MiB, 6.45% gc time)\n"
     ]
    },
    {
     "data": {
      "text/plain": [
       "(-975.971885281387, VarianceComponentModels.VarianceComponentModel{Float64,2,Array{Float64,2},Array{Float64,2}}([40.8044 20.2382; -6.31953 -4.36959], ([3.30612 0.873603; 0.873603 3.04595], [3.1354 0.4238; 0.4238 3.54718]), Array{Float64}(0,4), Char[], Float64[], -Inf, Inf), ([1.01345 1.0152; 1.0152 1.01651], [0.732282 0.753807; 0.753807 0.775775]), [1.02709 0.219542 … -0.107393 -0.021154; 0.219542 1.03064 … -0.021154 -0.110695; … ; -0.107393 -0.021154 … 0.568225 0.102017; -0.021154 -0.110695 … 0.102017 0.601827], [0.295078 0.248066; 0.354281 0.327321], [0.0870707 -0.0560476 0.0344887 -0.0167139; -0.0560476 0.125515 -0.0167139 0.0383889; 0.0344887 -0.0167139 0.0615366 -0.0485389; -0.0167139 0.0383889 -0.0485389 0.107139])"
      ]
     },
     "execution_count": 40,
     "metadata": {},
     "output_type": "execute_result"
    }
   ],
   "source": [
    "# reset model parameters\n",
    "traitall_model_ped = VarianceComponentModel(SNP_29Cdata_rotated_ped)\n",
    "# estimate variance components using Fisher scoring algorithm\n",
    "@time mle_mm!(traitall_model_ped, SNP_29Cdata_rotated_ped; verbose=true)"
   ]
  },
  {
   "cell_type": "markdown",
   "metadata": {
    "collapsed": true
   },
   "source": [
    "It converges after ~70 iterations."
   ]
  },
  {
   "cell_type": "markdown",
   "metadata": {},
   "source": [
    "## Save analysis results"
   ]
  },
  {
   "cell_type": "code",
   "execution_count": null,
   "metadata": {
    "collapsed": true
   },
   "outputs": [],
   "source": [
    "using JLD\n",
    "@save \"SNP_29C_results.jld\"\n",
    "whos()"
   ]
  }
 ],
 "metadata": {
  "anaconda-cloud": {},
  "kernelspec": {
   "display_name": "Julia 0.6.0",
   "language": "julia",
   "name": "julia-0.6"
  },
  "language_info": {
   "file_extension": ".jl",
   "mimetype": "application/julia",
   "name": "julia",
   "version": "0.6.0"
  }
 },
 "nbformat": 4,
 "nbformat_minor": 1
}
